{
  "nbformat": 4,
  "nbformat_minor": 0,
  "metadata": {
    "colab": {
      "provenance": [],
      "authorship_tag": "ABX9TyPw2W31L7u91bINEfUWF2za",
      "include_colab_link": true
    },
    "kernelspec": {
      "name": "python3",
      "display_name": "Python 3"
    },
    "language_info": {
      "name": "python"
    }
  },
  "cells": [
    {
      "cell_type": "markdown",
      "metadata": {
        "id": "view-in-github",
        "colab_type": "text"
      },
      "source": [
        "<a href=\"https://colab.research.google.com/github/Swagat-modder/DataScience-Analytics-projects/blob/main/B2B%20Courier%20Charges%20Analysis/B2B_Courier_Charges_analysis.ipynb\" target=\"_parent\"><img src=\"https://colab.research.google.com/assets/colab-badge.svg\" alt=\"Open In Colab\"/></a>"
      ]
    },
    {
      "cell_type": "markdown",
      "source": [
        "ABC Company operates an e-commerce platform and processes thousands of orders daily. To deliver these orders, ABC has partnered with several courier companies in India, which charge them based on the weight of the products and the distance between the warehouse and the customer’s delivery address. ABC wants to check if the fees charged by the courier companies for each order are correct.\n",
        "\n",
        "ABC has internal data split across three reports: Website Order Report, Master SKU, and Warehouse PIN for all India Pincode mappings. In addition, they receive billing data from courier companies.\n",
        "\n",
        "The website order report includes order IDs and products (SKUs) for each order. The SKU master provides the gross weight of each product, which is needed to calculate the total weight of each order. Courier company invoices contain information such as AWB number, order ID, shipment weight, warehouse pickup PIN, customer delivery PIN, delivery area, the charge per shipment and type of shipment.\n",
        "\n",
        "ABC wants to compare the total weight of each order calculated using the SKU master with the weight stated by the courier company in their invoice. The weight should be rounded up to the nearest multiple of 0.5 kg to determine the weight of the tile. The warehouse PIN to all India Pincode mappings is used to determine the delivery area, which should be compared to the area reported by the courier company.\n",
        "\n",
        "In addition, ABC must apply the logic of calculating charges based on the slab weight, delivery area and type of shipment listed on the courier company’s invoice. The courier fee rate card provides a fixed fee and an additional fee for each weight plate and PIN. The total charge per shipment should be calculated by adding the fixed charge and any additional charges based on plate weight."
      ],
      "metadata": {
        "id": "nKzt-46RV1Nh"
      }
    },
    {
      "cell_type": "code",
      "source": [
        "pip install fireducks"
      ],
      "metadata": {
        "colab": {
          "base_uri": "https://localhost:8080/"
        },
        "collapsed": true,
        "id": "elI2ancAWp66",
        "outputId": "29bf90e8-7ec6-4ad9-f616-1e6fcfc84aa2"
      },
      "execution_count": 1,
      "outputs": [
        {
          "output_type": "stream",
          "name": "stdout",
          "text": [
            "Collecting fireducks\n",
            "  Downloading fireducks-1.2.5-cp311-cp311-manylinux_2_28_x86_64.whl.metadata (1.0 kB)\n",
            "Collecting firefw==1.2.5 (from fireducks)\n",
            "  Downloading firefw-1.2.5-py3-none-any.whl.metadata (818 bytes)\n",
            "Requirement already satisfied: pandas<2.3.0,>=1.5.3 in /usr/local/lib/python3.11/dist-packages (from fireducks) (2.2.2)\n",
            "Collecting pyarrow<19.1,>=19.0 (from fireducks)\n",
            "  Downloading pyarrow-19.0.1-cp311-cp311-manylinux_2_28_x86_64.whl.metadata (3.3 kB)\n",
            "Requirement already satisfied: numpy>=1.23.2 in /usr/local/lib/python3.11/dist-packages (from pandas<2.3.0,>=1.5.3->fireducks) (2.0.2)\n",
            "Requirement already satisfied: python-dateutil>=2.8.2 in /usr/local/lib/python3.11/dist-packages (from pandas<2.3.0,>=1.5.3->fireducks) (2.8.2)\n",
            "Requirement already satisfied: pytz>=2020.1 in /usr/local/lib/python3.11/dist-packages (from pandas<2.3.0,>=1.5.3->fireducks) (2025.2)\n",
            "Requirement already satisfied: tzdata>=2022.7 in /usr/local/lib/python3.11/dist-packages (from pandas<2.3.0,>=1.5.3->fireducks) (2025.2)\n",
            "Requirement already satisfied: six>=1.5 in /usr/local/lib/python3.11/dist-packages (from python-dateutil>=2.8.2->pandas<2.3.0,>=1.5.3->fireducks) (1.17.0)\n",
            "Downloading fireducks-1.2.5-cp311-cp311-manylinux_2_28_x86_64.whl (7.3 MB)\n",
            "\u001b[2K   \u001b[90m━━━━━━━━━━━━━━━━━━━━━━━━━━━━━━━━━━━━━━━━\u001b[0m \u001b[32m7.3/7.3 MB\u001b[0m \u001b[31m44.9 MB/s\u001b[0m eta \u001b[36m0:00:00\u001b[0m\n",
            "\u001b[?25hDownloading firefw-1.2.5-py3-none-any.whl (12 kB)\n",
            "Downloading pyarrow-19.0.1-cp311-cp311-manylinux_2_28_x86_64.whl (42.1 MB)\n",
            "\u001b[2K   \u001b[90m━━━━━━━━━━━━━━━━━━━━━━━━━━━━━━━━━━━━━━━━\u001b[0m \u001b[32m42.1/42.1 MB\u001b[0m \u001b[31m16.8 MB/s\u001b[0m eta \u001b[36m0:00:00\u001b[0m\n",
            "\u001b[?25hInstalling collected packages: pyarrow, firefw, fireducks\n",
            "  Attempting uninstall: pyarrow\n",
            "    Found existing installation: pyarrow 18.1.0\n",
            "    Uninstalling pyarrow-18.1.0:\n",
            "      Successfully uninstalled pyarrow-18.1.0\n",
            "Successfully installed fireducks-1.2.5 firefw-1.2.5 pyarrow-19.0.1\n"
          ]
        }
      ]
    },
    {
      "cell_type": "code",
      "execution_count": 3,
      "metadata": {
        "id": "jD2M5xPFl1q7",
        "colab": {
          "base_uri": "https://localhost:8080/"
        },
        "outputId": "2b16d2e1-d838-410a-c045-dc40890cfa90"
      },
      "outputs": [
        {
          "output_type": "stream",
          "name": "stdout",
          "text": [
            "Order Report:\n",
            "   ExternOrderNo            SKU  Order Qty  Unnamed: 3  Unnamed: 4\n",
            "0     2001827036  8904223818706        1.0         NaN         NaN\n",
            "1     2001827036  8904223819093        1.0         NaN         NaN\n",
            "2     2001827036  8904223819109        1.0         NaN         NaN\n",
            "3     2001827036  8904223818430        1.0         NaN         NaN\n",
            "4     2001827036  8904223819277        1.0         NaN         NaN\n",
            "\n",
            "SKU Master:\n",
            "             SKU  Weight (g)  Unnamed: 2  Unnamed: 3  Unnamed: 4\n",
            "0  8904223815682         210         NaN         NaN         NaN\n",
            "1  8904223815859         165         NaN         NaN         NaN\n",
            "2  8904223815866         113         NaN         NaN         NaN\n",
            "3  8904223815873          65         NaN         NaN         NaN\n",
            "4  8904223816214         120         NaN         NaN         NaN\n",
            "\n",
            "Pincode Mapping:\n",
            "   Warehouse Pincode  Customer Pincode Zone  Unnamed: 3  Unnamed: 4\n",
            "0             121003            507101    d         NaN         NaN\n",
            "1             121003            486886    d         NaN         NaN\n",
            "2             121003            532484    d         NaN         NaN\n",
            "3             121003            143001    b         NaN         NaN\n",
            "4             121003            515591    d         NaN         NaN\n",
            "\n",
            "Courier Invoice:\n",
            "        AWB Code    Order ID  Charged Weight  Warehouse Pincode  \\\n",
            "0  1091117222124  2001806232            1.30             121003   \n",
            "1  1091117222194  2001806273            1.00             121003   \n",
            "2  1091117222931  2001806408            2.50             121003   \n",
            "3  1091117223244  2001806458            1.00             121003   \n",
            "4  1091117229345  2001807012            0.15             121003   \n",
            "\n",
            "   Customer Pincode Zone Type of Shipment  Billing Amount (Rs.)  \n",
            "0            507101    d  Forward charges                 135.0  \n",
            "1            486886    d  Forward charges                  90.2  \n",
            "2            532484    d  Forward charges                 224.6  \n",
            "3            143001    b  Forward charges                  61.3  \n",
            "4            515591    d  Forward charges                  45.4  \n"
          ]
        }
      ],
      "source": [
        "import fireducks.pandas as pd\n",
        "\n",
        "order_report = pd.read_csv('/content/Order Report.csv')\n",
        "sku_master = pd.read_csv('/content/SKU Master.csv')\n",
        "pincode_mapping = pd.read_csv('/content/pincodes.csv')\n",
        "courier_invoice = pd.read_csv('/content/Invoice.csv')\n",
        "courier_company_rates = pd.read_csv('/content/Courier Company - Rates.csv')\n",
        "\n",
        "print(\"Order Report:\")\n",
        "print(order_report.head())\n",
        "print(\"\\nSKU Master:\")\n",
        "print(sku_master.head())\n",
        "print(\"\\nPincode Mapping:\")\n",
        "print(pincode_mapping.head())\n",
        "print(\"\\nCourier Invoice:\")\n",
        "print(courier_invoice.head())"
      ]
    },
    {
      "cell_type": "code",
      "source": [
        "print(\"Courier Company rates:\")\n",
        "courier_company_rates.head()"
      ],
      "metadata": {
        "colab": {
          "base_uri": "https://localhost:8080/",
          "height": 118
        },
        "id": "Sk8JHcvvW89W",
        "outputId": "4169da11-e11c-4e13-9985-0abf6ee93fa2"
      },
      "execution_count": 7,
      "outputs": [
        {
          "output_type": "stream",
          "name": "stdout",
          "text": [
            "Courier Company rates:\n"
          ]
        },
        {
          "output_type": "display_data",
          "data": {
            "text/html": [
              "<div>\n",
              "<style scoped>\n",
              "    .dataframe tbody tr th:only-of-type {\n",
              "        vertical-align: middle;\n",
              "    }\n",
              "\n",
              "    .dataframe tbody tr th {\n",
              "        vertical-align: top;\n",
              "    }\n",
              "\n",
              "    .dataframe thead th {\n",
              "        text-align: right;\n",
              "    }\n",
              "</style>\n",
              "<table border=\"1\" class=\"dataframe\">\n",
              "  <thead>\n",
              "    <tr style=\"text-align: right;\">\n",
              "      <th></th>\n",
              "      <th>fwd_a_fixed</th>\n",
              "      <th>fwd_a_additional</th>\n",
              "      <th>fwd_b_fixed</th>\n",
              "      <th>fwd_b_additional</th>\n",
              "      <th>fwd_c_fixed</th>\n",
              "      <th>fwd_c_additional</th>\n",
              "      <th>fwd_d_fixed</th>\n",
              "      <th>fwd_d_additional</th>\n",
              "      <th>fwd_e_fixed</th>\n",
              "      <th>fwd_e_additional</th>\n",
              "      <th>rto_a_fixed</th>\n",
              "      <th>rto_a_additional</th>\n",
              "      <th>rto_b_fixed</th>\n",
              "      <th>rto_b_additional</th>\n",
              "      <th>rto_c_fixed</th>\n",
              "      <th>rto_c_additional</th>\n",
              "      <th>rto_d_fixed</th>\n",
              "      <th>rto_d_additional</th>\n",
              "      <th>rto_e_fixed</th>\n",
              "      <th>rto_e_additional</th>\n",
              "    </tr>\n",
              "  </thead>\n",
              "  <tbody>\n",
              "    <tr>\n",
              "      <th>0</th>\n",
              "      <td>29.5</td>\n",
              "      <td>23.6</td>\n",
              "      <td>33</td>\n",
              "      <td>28.3</td>\n",
              "      <td>40.1</td>\n",
              "      <td>38.9</td>\n",
              "      <td>45.4</td>\n",
              "      <td>44.8</td>\n",
              "      <td>56.6</td>\n",
              "      <td>55.5</td>\n",
              "      <td>13.6</td>\n",
              "      <td>23.6</td>\n",
              "      <td>20.5</td>\n",
              "      <td>28.3</td>\n",
              "      <td>31.9</td>\n",
              "      <td>38.9</td>\n",
              "      <td>41.3</td>\n",
              "      <td>44.8</td>\n",
              "      <td>50.7</td>\n",
              "      <td>55.5</td>\n",
              "    </tr>\n",
              "  </tbody>\n",
              "</table>\n",
              "</div>"
            ]
          },
          "metadata": {}
        }
      ]
    },
    {
      "cell_type": "code",
      "source": [
        "# Checking for missing values\n",
        "print(\"\\nMissing values in Website Order Report:\")\n",
        "print(order_report.isnull().sum())\n",
        "print(\"\\nMissing values in SKU Master:\")\n",
        "print(sku_master.isnull().sum())\n",
        "print(\"\\nMissing values in Pincode Mapping:\")\n",
        "print(pincode_mapping.isnull().sum())\n",
        "print(\"\\nMissing values in Courier Invoice:\")\n",
        "print(courier_invoice.isnull().sum())\n",
        "print(\"\\nMissing values in courier company rates:\")\n",
        "print(courier_company_rates.isnull().sum())"
      ],
      "metadata": {
        "colab": {
          "base_uri": "https://localhost:8080/"
        },
        "id": "1ekVRa7uW_9j",
        "outputId": "4f62aa31-cb12-415f-c99e-172a8e2aa812"
      },
      "execution_count": 8,
      "outputs": [
        {
          "output_type": "stream",
          "name": "stdout",
          "text": [
            "\n",
            "Missing values in Website Order Report:\n",
            "ExternOrderNo      0\n",
            "SKU                0\n",
            "Order Qty          0\n",
            "Unnamed: 3       400\n",
            "Unnamed: 4       400\n",
            "dtype: int64\n",
            "\n",
            "Missing values in SKU Master:\n",
            "SKU            0\n",
            "Weight (g)     0\n",
            "Unnamed: 2    66\n",
            "Unnamed: 3    66\n",
            "Unnamed: 4    66\n",
            "dtype: int64\n",
            "\n",
            "Missing values in Pincode Mapping:\n",
            "Warehouse Pincode      0\n",
            "Customer Pincode       0\n",
            "Zone                   0\n",
            "Unnamed: 3           124\n",
            "Unnamed: 4           124\n",
            "dtype: int64\n",
            "\n",
            "Missing values in Courier Invoice:\n",
            "AWB Code                0\n",
            "Order ID                0\n",
            "Charged Weight          0\n",
            "Warehouse Pincode       0\n",
            "Customer Pincode        0\n",
            "Zone                    0\n",
            "Type of Shipment        0\n",
            "Billing Amount (Rs.)    0\n",
            "dtype: int64\n",
            "\n",
            "Missing values in courier company rates:\n",
            "fwd_a_fixed         0\n",
            "fwd_a_additional    0\n",
            "fwd_b_fixed         0\n",
            "fwd_b_additional    0\n",
            "fwd_c_fixed         0\n",
            "fwd_c_additional    0\n",
            "fwd_d_fixed         0\n",
            "fwd_d_additional    0\n",
            "fwd_e_fixed         0\n",
            "fwd_e_additional    0\n",
            "rto_a_fixed         0\n",
            "rto_a_additional    0\n",
            "rto_b_fixed         0\n",
            "rto_b_additional    0\n",
            "rto_c_fixed         0\n",
            "rto_c_additional    0\n",
            "rto_d_fixed         0\n",
            "rto_d_additional    0\n",
            "rto_e_fixed         0\n",
            "rto_e_additional    0\n",
            "dtype: int64\n"
          ]
        }
      ]
    },
    {
      "cell_type": "code",
      "source": [
        "# Remove unnamed columns from the Website Order Report DataFrame\n",
        "order_report = order_report.drop(columns=['Unnamed: 3', 'Unnamed: 4'])\n",
        "\n",
        "# Remove unnamed columns from the SKU Master DataFrame\n",
        "sku_master = sku_master.drop(columns=['Unnamed: 2', 'Unnamed: 3', 'Unnamed: 4'])\n",
        "\n",
        "# Remove unnamed columns from the Pincode Mapping DataFrame\n",
        "pincode_mapping = pincode_mapping.drop(columns=['Unnamed: 3', 'Unnamed: 4'])"
      ],
      "metadata": {
        "id": "K4bNUvqBXTOu"
      },
      "execution_count": 9,
      "outputs": []
    },
    {
      "cell_type": "code",
      "source": [
        "# Merging the Order Report and SKU Master based on SKU\n",
        "merged_data = pd.merge(order_report, sku_master, on='SKU')\n",
        "print(merged_data.head())"
      ],
      "metadata": {
        "colab": {
          "base_uri": "https://localhost:8080/"
        },
        "id": "V4yFEBDsXc8t",
        "outputId": "5e6faf75-efc6-45cd-b758-65d334bc131a"
      },
      "execution_count": 10,
      "outputs": [
        {
          "output_type": "stream",
          "name": "stdout",
          "text": [
            "   ExternOrderNo            SKU  Order Qty  Weight (g)\n",
            "0     2001827036  8904223818706        1.0         127\n",
            "1     2001827036  8904223819093        1.0         150\n",
            "2     2001827036  8904223819109        1.0         100\n",
            "3     2001827036  8904223818430        1.0         165\n",
            "4     2001827036  8904223819277        1.0         350\n"
          ]
        }
      ]
    },
    {
      "cell_type": "code",
      "source": [
        "# Renaming the \"ExternOrderNo\" column to \"Order ID\" in the merged_data DataFrame\n",
        "merged_data = merged_data.rename(columns={'ExternOrderNo': 'Order ID'})"
      ],
      "metadata": {
        "id": "jCEztx5UXhIR"
      },
      "execution_count": 11,
      "outputs": []
    },
    {
      "cell_type": "code",
      "source": [
        "#merging the courier invoice and pincode mapping dataset\n",
        "abc_courier = pincode_mapping.drop_duplicates(subset=['Customer Pincode'])\n",
        "courier_abc= courier_invoice[['Order ID', 'Customer Pincode','Type of Shipment']]\n",
        "pincodes= courier_abc.merge(abc_courier,on='Customer Pincode')\n",
        "print(pincodes.head())"
      ],
      "metadata": {
        "colab": {
          "base_uri": "https://localhost:8080/"
        },
        "id": "_t91RPtaXrNt",
        "outputId": "58fdf0db-fadf-4e72-a44a-04c86222174e"
      },
      "execution_count": 12,
      "outputs": [
        {
          "output_type": "stream",
          "name": "stdout",
          "text": [
            "     Order ID  Customer Pincode Type of Shipment  Warehouse Pincode Zone\n",
            "0  2001806232            507101  Forward charges             121003    d\n",
            "1  2001806273            486886  Forward charges             121003    d\n",
            "2  2001806408            532484  Forward charges             121003    d\n",
            "3  2001806458            143001  Forward charges             121003    b\n",
            "4  2001807012            515591  Forward charges             121003    d\n"
          ]
        }
      ]
    },
    {
      "cell_type": "code",
      "source": [
        "#merging the pincode wih main dataframe\n",
        "merged2 = merged_data.merge(pincodes, on='Order ID')"
      ],
      "metadata": {
        "id": "sRTSPo1pXzGB"
      },
      "execution_count": 13,
      "outputs": []
    },
    {
      "cell_type": "code",
      "source": [
        "merged2['Weights (Kgs)'] = merged2['Weight (g)'] / 1000 #calculating weight by kilograms"
      ],
      "metadata": {
        "id": "qvhW4MmMX92R"
      },
      "execution_count": 14,
      "outputs": []
    },
    {
      "cell_type": "code",
      "source": [
        "#Calculating the weight slabs\n",
        "def weight_slab(weight):\n",
        "    i = round(weight % 1, 1)\n",
        "    if i == 0.0:\n",
        "        return weight\n",
        "    elif i > 0.5:\n",
        "        return int(weight) + 1.0\n",
        "    else:\n",
        "        return int(weight) + 0.5\n",
        "\n",
        "merged2['Weight Slab (KG)'] = merged2['Weights (Kgs)'].apply(weight_slab)\n",
        "courier_invoice['Weight Slab Charged by Courier Company']=(courier_invoice['Charged Weight']).apply(weight_slab)"
      ],
      "metadata": {
        "id": "xM3_G6Y3YD6I"
      },
      "execution_count": 15,
      "outputs": []
    },
    {
      "cell_type": "code",
      "source": [
        "courier_invoice = courier_invoice.rename(columns={'Zone': 'Delivery Zone Charged by Courier Company'})\n",
        "merged2 = merged2.rename(columns={'Zone': 'Delivery Zone As Per ABC'})\n",
        "merged2 = merged2.rename(columns={'Weight Slab (KG)': 'Weight Slab As Per ABC'})"
      ],
      "metadata": {
        "id": "gRjdWurnYMIZ"
      },
      "execution_count": 16,
      "outputs": []
    },
    {
      "cell_type": "code",
      "source": [
        "#Calculating the expected charges\n",
        "total_expected_charge = []\n",
        "\n",
        "for _, row in merged2.iterrows():\n",
        "    fwd_category = 'fwd_' + row['Delivery Zone As Per ABC']\n",
        "    fwd_fixed = courier_company_rates.at[0, fwd_category + '_fixed']\n",
        "    fwd_additional = courier_company_rates.at[0, fwd_category + '_additional']\n",
        "    rto_category = 'rto_' + row['Delivery Zone As Per ABC']\n",
        "    rto_fixed = courier_company_rates.at[0, rto_category + '_fixed']\n",
        "    rto_additional = courier_company_rates.at[0, rto_category + '_additional']\n",
        "\n",
        "    weight_slab = row['Weight Slab As Per ABC']\n",
        "\n",
        "    if row['Type of Shipment'] == 'Forward charges':\n",
        "        additional_weight = max(0, (weight_slab - 0.5) / 0.5)\n",
        "        total_expected_charge.append(fwd_fixed + additional_weight * fwd_additional)\n",
        "    elif row['Type of Shipment'] == 'Forward and RTO charges':\n",
        "        additional_weight = max(0, (weight_slab - 0.5) / 0.5)\n",
        "        total_expected_charge.append(fwd_fixed + additional_weight * (fwd_additional + rto_additional))\n",
        "    else:\n",
        "        total_expected_charge.append(0)\n",
        "\n",
        "merged2['Expected Charge as per ABC'] = total_expected_charge\n",
        "print(merged2.head())"
      ],
      "metadata": {
        "colab": {
          "base_uri": "https://localhost:8080/"
        },
        "id": "csqtrOnBYYIm",
        "outputId": "373a8179-0a4d-4f71-e33b-fb53c84fdf8f"
      },
      "execution_count": 17,
      "outputs": [
        {
          "output_type": "stream",
          "name": "stdout",
          "text": [
            "     Order ID            SKU  Order Qty  Weight (g)  Customer Pincode  \\\n",
            "0  2001827036  8904223818706        1.0         127            173213   \n",
            "1  2001827036  8904223819093        1.0         150            173213   \n",
            "2  2001827036  8904223819109        1.0         100            173213   \n",
            "3  2001827036  8904223818430        1.0         165            173213   \n",
            "4  2001827036  8904223819277        1.0         350            173213   \n",
            "\n",
            "  Type of Shipment  Warehouse Pincode Delivery Zone As Per ABC  Weights (Kgs)  \\\n",
            "0  Forward charges             121003                        e          0.127   \n",
            "1  Forward charges             121003                        e          0.150   \n",
            "2  Forward charges             121003                        e          0.100   \n",
            "3  Forward charges             121003                        e          0.165   \n",
            "4  Forward charges             121003                        e          0.350   \n",
            "\n",
            "   Weight Slab As Per ABC  Expected Charge as per ABC  \n",
            "0                     0.5                        56.6  \n",
            "1                     0.5                        56.6  \n",
            "2                     0.5                        56.6  \n",
            "3                     0.5                        56.6  \n",
            "4                     0.5                        56.6  \n"
          ]
        }
      ]
    },
    {
      "cell_type": "code",
      "source": [
        "merged_output = merged2.merge(courier_invoice, on='Order ID')\n",
        "print(merged_output.head())"
      ],
      "metadata": {
        "colab": {
          "base_uri": "https://localhost:8080/"
        },
        "id": "a6AvEfkiYc9j",
        "outputId": "ad649dd1-3ede-4231-d7f6-375b94dc0f38"
      },
      "execution_count": 18,
      "outputs": [
        {
          "output_type": "stream",
          "name": "stdout",
          "text": [
            "     Order ID            SKU  Order Qty  Weight (g)  Customer Pincode_x  \\\n",
            "0  2001827036  8904223818706        1.0         127              173213   \n",
            "1  2001827036  8904223819093        1.0         150              173213   \n",
            "2  2001827036  8904223819109        1.0         100              173213   \n",
            "3  2001827036  8904223818430        1.0         165              173213   \n",
            "4  2001827036  8904223819277        1.0         350              173213   \n",
            "\n",
            "  Type of Shipment_x  Warehouse Pincode_x Delivery Zone As Per ABC  \\\n",
            "0    Forward charges               121003                        e   \n",
            "1    Forward charges               121003                        e   \n",
            "2    Forward charges               121003                        e   \n",
            "3    Forward charges               121003                        e   \n",
            "4    Forward charges               121003                        e   \n",
            "\n",
            "   Weights (Kgs)  Weight Slab As Per ABC  Expected Charge as per ABC  \\\n",
            "0          0.127                     0.5                        56.6   \n",
            "1          0.150                     0.5                        56.6   \n",
            "2          0.100                     0.5                        56.6   \n",
            "3          0.165                     0.5                        56.6   \n",
            "4          0.350                     0.5                        56.6   \n",
            "\n",
            "        AWB Code  Charged Weight  Warehouse Pincode_y  Customer Pincode_y  \\\n",
            "0  1091122418320             1.6               121003              173213   \n",
            "1  1091122418320             1.6               121003              173213   \n",
            "2  1091122418320             1.6               121003              173213   \n",
            "3  1091122418320             1.6               121003              173213   \n",
            "4  1091122418320             1.6               121003              173213   \n",
            "\n",
            "  Delivery Zone Charged by Courier Company Type of Shipment_y  \\\n",
            "0                                        b    Forward charges   \n",
            "1                                        b    Forward charges   \n",
            "2                                        b    Forward charges   \n",
            "3                                        b    Forward charges   \n",
            "4                                        b    Forward charges   \n",
            "\n",
            "   Billing Amount (Rs.)  Weight Slab Charged by Courier Company  \n",
            "0                 117.9                                     2.0  \n",
            "1                 117.9                                     2.0  \n",
            "2                 117.9                                     2.0  \n",
            "3                 117.9                                     2.0  \n",
            "4                 117.9                                     2.0  \n"
          ]
        }
      ]
    },
    {
      "cell_type": "code",
      "source": [
        "df_diff = merged_output\n",
        "df_diff['Difference (Rs.)'] = df_diff['Billing Amount (Rs.)'] - df_diff['Expected Charge as per ABC']\n",
        "\n",
        "df_new = df_diff[['Order ID', 'Difference (Rs.)', 'Expected Charge as per ABC']]\n",
        "\n",
        "print(df_new.head())"
      ],
      "metadata": {
        "colab": {
          "base_uri": "https://localhost:8080/"
        },
        "id": "nGAr54aSYhZH",
        "outputId": "d3a74a0f-973a-490c-ee6c-57cc78205b78"
      },
      "execution_count": 19,
      "outputs": [
        {
          "output_type": "stream",
          "name": "stdout",
          "text": [
            "     Order ID  Difference (Rs.)  Expected Charge as per ABC\n",
            "0  2001827036              61.3                        56.6\n",
            "1  2001827036              61.3                        56.6\n",
            "2  2001827036              61.3                        56.6\n",
            "3  2001827036              61.3                        56.6\n",
            "4  2001827036              61.3                        56.6\n"
          ]
        }
      ]
    },
    {
      "cell_type": "code",
      "source": [
        "# Calculate the total orders in each category\n",
        "total_correctly_charged = len(df_new[df_new['Difference (Rs.)'] == 0])\n",
        "total_overcharged = len(df_new[df_new['Difference (Rs.)'] > 0])\n",
        "total_undercharged = len(df_new[df_new['Difference (Rs.)'] < 0])\n",
        "\n",
        "# Calculate the total amount in each category\n",
        "amount_overcharged = abs(df_new[df_new['Difference (Rs.)'] > 0]['Difference (Rs.)'].sum())\n",
        "amount_undercharged = df_new[df_new['Difference (Rs.)'] < 0]['Difference (Rs.)'].sum()\n",
        "amount_correctly_charged = df_new[df_new['Difference (Rs.)'] == 0]['Expected Charge as per ABC'].sum()\n",
        "\n",
        "# Create a new DataFrame for the summary\n",
        "summary_data = {'Description': ['Total Orders where ABC has been correctly charged',\n",
        "                                'Total Orders where ABC has been overcharged',\n",
        "                                'Total Orders where ABC has been undercharged'],\n",
        "                'Count': [total_correctly_charged, total_overcharged, total_undercharged],\n",
        "                'Amount (Rs.)': [amount_correctly_charged, amount_overcharged, amount_undercharged]}\n",
        "\n",
        "df_summary = pd.DataFrame(summary_data)\n",
        "\n",
        "print(df_summary)"
      ],
      "metadata": {
        "colab": {
          "base_uri": "https://localhost:8080/"
        },
        "id": "bNOja27kYkKP",
        "outputId": "ed385ccf-5a47-4354-c905-cf825a8a8b18"
      },
      "execution_count": 20,
      "outputs": [
        {
          "output_type": "stream",
          "name": "stdout",
          "text": [
            "                                         Description  Count  Amount (Rs.)\n",
            "0  Total Orders where ABC has been correctly charged     12         507.6\n",
            "1        Total Orders where ABC has been overcharged    382       33750.5\n",
            "2       Total Orders where ABC has been undercharged      7        -165.2\n"
          ]
        }
      ]
    },
    {
      "cell_type": "code",
      "source": [
        "import plotly.graph_objects as go\n",
        "fig = go.Figure(data=go.Pie(labels=df_summary['Description'],\n",
        "                            values=df_summary['Count'],\n",
        "                            textinfo='label+percent',\n",
        "                            hole=0.4))\n",
        "fig.update_layout(title='Proportion')\n",
        "\n",
        "fig.show()"
      ],
      "metadata": {
        "colab": {
          "base_uri": "https://localhost:8080/",
          "height": 542
        },
        "id": "J8JIe5VvYnxo",
        "outputId": "1ac536de-2332-46cc-d3ee-15bd08766381"
      },
      "execution_count": 21,
      "outputs": [
        {
          "output_type": "display_data",
          "data": {
            "text/html": [
              "<html>\n",
              "<head><meta charset=\"utf-8\" /></head>\n",
              "<body>\n",
              "    <div>            <script src=\"https://cdnjs.cloudflare.com/ajax/libs/mathjax/2.7.5/MathJax.js?config=TeX-AMS-MML_SVG\"></script><script type=\"text/javascript\">if (window.MathJax && window.MathJax.Hub && window.MathJax.Hub.Config) {window.MathJax.Hub.Config({SVG: {font: \"STIX-Web\"}});}</script>                <script type=\"text/javascript\">window.PlotlyConfig = {MathJaxConfig: 'local'};</script>\n",
              "        <script charset=\"utf-8\" src=\"https://cdn.plot.ly/plotly-2.35.2.min.js\"></script>                <div id=\"a3cc6999-14a9-4d61-a929-ac61843d6ef2\" class=\"plotly-graph-div\" style=\"height:525px; width:100%;\"></div>            <script type=\"text/javascript\">                                    window.PLOTLYENV=window.PLOTLYENV || {};                                    if (document.getElementById(\"a3cc6999-14a9-4d61-a929-ac61843d6ef2\")) {                    Plotly.newPlot(                        \"a3cc6999-14a9-4d61-a929-ac61843d6ef2\",                        [{\"hole\":0.4,\"labels\":[\"Total Orders where ABC has been correctly charged\",\"Total Orders where ABC has been overcharged\",\"Total Orders where ABC has been undercharged\"],\"textinfo\":\"label+percent\",\"values\":[12,382,7],\"type\":\"pie\"}],                        {\"template\":{\"data\":{\"histogram2dcontour\":[{\"type\":\"histogram2dcontour\",\"colorbar\":{\"outlinewidth\":0,\"ticks\":\"\"},\"colorscale\":[[0.0,\"#0d0887\"],[0.1111111111111111,\"#46039f\"],[0.2222222222222222,\"#7201a8\"],[0.3333333333333333,\"#9c179e\"],[0.4444444444444444,\"#bd3786\"],[0.5555555555555556,\"#d8576b\"],[0.6666666666666666,\"#ed7953\"],[0.7777777777777778,\"#fb9f3a\"],[0.8888888888888888,\"#fdca26\"],[1.0,\"#f0f921\"]]}],\"choropleth\":[{\"type\":\"choropleth\",\"colorbar\":{\"outlinewidth\":0,\"ticks\":\"\"}}],\"histogram2d\":[{\"type\":\"histogram2d\",\"colorbar\":{\"outlinewidth\":0,\"ticks\":\"\"},\"colorscale\":[[0.0,\"#0d0887\"],[0.1111111111111111,\"#46039f\"],[0.2222222222222222,\"#7201a8\"],[0.3333333333333333,\"#9c179e\"],[0.4444444444444444,\"#bd3786\"],[0.5555555555555556,\"#d8576b\"],[0.6666666666666666,\"#ed7953\"],[0.7777777777777778,\"#fb9f3a\"],[0.8888888888888888,\"#fdca26\"],[1.0,\"#f0f921\"]]}],\"heatmap\":[{\"type\":\"heatmap\",\"colorbar\":{\"outlinewidth\":0,\"ticks\":\"\"},\"colorscale\":[[0.0,\"#0d0887\"],[0.1111111111111111,\"#46039f\"],[0.2222222222222222,\"#7201a8\"],[0.3333333333333333,\"#9c179e\"],[0.4444444444444444,\"#bd3786\"],[0.5555555555555556,\"#d8576b\"],[0.6666666666666666,\"#ed7953\"],[0.7777777777777778,\"#fb9f3a\"],[0.8888888888888888,\"#fdca26\"],[1.0,\"#f0f921\"]]}],\"heatmapgl\":[{\"type\":\"heatmapgl\",\"colorbar\":{\"outlinewidth\":0,\"ticks\":\"\"},\"colorscale\":[[0.0,\"#0d0887\"],[0.1111111111111111,\"#46039f\"],[0.2222222222222222,\"#7201a8\"],[0.3333333333333333,\"#9c179e\"],[0.4444444444444444,\"#bd3786\"],[0.5555555555555556,\"#d8576b\"],[0.6666666666666666,\"#ed7953\"],[0.7777777777777778,\"#fb9f3a\"],[0.8888888888888888,\"#fdca26\"],[1.0,\"#f0f921\"]]}],\"contourcarpet\":[{\"type\":\"contourcarpet\",\"colorbar\":{\"outlinewidth\":0,\"ticks\":\"\"}}],\"contour\":[{\"type\":\"contour\",\"colorbar\":{\"outlinewidth\":0,\"ticks\":\"\"},\"colorscale\":[[0.0,\"#0d0887\"],[0.1111111111111111,\"#46039f\"],[0.2222222222222222,\"#7201a8\"],[0.3333333333333333,\"#9c179e\"],[0.4444444444444444,\"#bd3786\"],[0.5555555555555556,\"#d8576b\"],[0.6666666666666666,\"#ed7953\"],[0.7777777777777778,\"#fb9f3a\"],[0.8888888888888888,\"#fdca26\"],[1.0,\"#f0f921\"]]}],\"surface\":[{\"type\":\"surface\",\"colorbar\":{\"outlinewidth\":0,\"ticks\":\"\"},\"colorscale\":[[0.0,\"#0d0887\"],[0.1111111111111111,\"#46039f\"],[0.2222222222222222,\"#7201a8\"],[0.3333333333333333,\"#9c179e\"],[0.4444444444444444,\"#bd3786\"],[0.5555555555555556,\"#d8576b\"],[0.6666666666666666,\"#ed7953\"],[0.7777777777777778,\"#fb9f3a\"],[0.8888888888888888,\"#fdca26\"],[1.0,\"#f0f921\"]]}],\"mesh3d\":[{\"type\":\"mesh3d\",\"colorbar\":{\"outlinewidth\":0,\"ticks\":\"\"}}],\"scatter\":[{\"fillpattern\":{\"fillmode\":\"overlay\",\"size\":10,\"solidity\":0.2},\"type\":\"scatter\"}],\"parcoords\":[{\"type\":\"parcoords\",\"line\":{\"colorbar\":{\"outlinewidth\":0,\"ticks\":\"\"}}}],\"scatterpolargl\":[{\"type\":\"scatterpolargl\",\"marker\":{\"colorbar\":{\"outlinewidth\":0,\"ticks\":\"\"}}}],\"bar\":[{\"error_x\":{\"color\":\"#2a3f5f\"},\"error_y\":{\"color\":\"#2a3f5f\"},\"marker\":{\"line\":{\"color\":\"#E5ECF6\",\"width\":0.5},\"pattern\":{\"fillmode\":\"overlay\",\"size\":10,\"solidity\":0.2}},\"type\":\"bar\"}],\"scattergeo\":[{\"type\":\"scattergeo\",\"marker\":{\"colorbar\":{\"outlinewidth\":0,\"ticks\":\"\"}}}],\"scatterpolar\":[{\"type\":\"scatterpolar\",\"marker\":{\"colorbar\":{\"outlinewidth\":0,\"ticks\":\"\"}}}],\"histogram\":[{\"marker\":{\"pattern\":{\"fillmode\":\"overlay\",\"size\":10,\"solidity\":0.2}},\"type\":\"histogram\"}],\"scattergl\":[{\"type\":\"scattergl\",\"marker\":{\"colorbar\":{\"outlinewidth\":0,\"ticks\":\"\"}}}],\"scatter3d\":[{\"type\":\"scatter3d\",\"line\":{\"colorbar\":{\"outlinewidth\":0,\"ticks\":\"\"}},\"marker\":{\"colorbar\":{\"outlinewidth\":0,\"ticks\":\"\"}}}],\"scattermapbox\":[{\"type\":\"scattermapbox\",\"marker\":{\"colorbar\":{\"outlinewidth\":0,\"ticks\":\"\"}}}],\"scatterternary\":[{\"type\":\"scatterternary\",\"marker\":{\"colorbar\":{\"outlinewidth\":0,\"ticks\":\"\"}}}],\"scattercarpet\":[{\"type\":\"scattercarpet\",\"marker\":{\"colorbar\":{\"outlinewidth\":0,\"ticks\":\"\"}}}],\"carpet\":[{\"aaxis\":{\"endlinecolor\":\"#2a3f5f\",\"gridcolor\":\"white\",\"linecolor\":\"white\",\"minorgridcolor\":\"white\",\"startlinecolor\":\"#2a3f5f\"},\"baxis\":{\"endlinecolor\":\"#2a3f5f\",\"gridcolor\":\"white\",\"linecolor\":\"white\",\"minorgridcolor\":\"white\",\"startlinecolor\":\"#2a3f5f\"},\"type\":\"carpet\"}],\"table\":[{\"cells\":{\"fill\":{\"color\":\"#EBF0F8\"},\"line\":{\"color\":\"white\"}},\"header\":{\"fill\":{\"color\":\"#C8D4E3\"},\"line\":{\"color\":\"white\"}},\"type\":\"table\"}],\"barpolar\":[{\"marker\":{\"line\":{\"color\":\"#E5ECF6\",\"width\":0.5},\"pattern\":{\"fillmode\":\"overlay\",\"size\":10,\"solidity\":0.2}},\"type\":\"barpolar\"}],\"pie\":[{\"automargin\":true,\"type\":\"pie\"}]},\"layout\":{\"autotypenumbers\":\"strict\",\"colorway\":[\"#636efa\",\"#EF553B\",\"#00cc96\",\"#ab63fa\",\"#FFA15A\",\"#19d3f3\",\"#FF6692\",\"#B6E880\",\"#FF97FF\",\"#FECB52\"],\"font\":{\"color\":\"#2a3f5f\"},\"hovermode\":\"closest\",\"hoverlabel\":{\"align\":\"left\"},\"paper_bgcolor\":\"white\",\"plot_bgcolor\":\"#E5ECF6\",\"polar\":{\"bgcolor\":\"#E5ECF6\",\"angularaxis\":{\"gridcolor\":\"white\",\"linecolor\":\"white\",\"ticks\":\"\"},\"radialaxis\":{\"gridcolor\":\"white\",\"linecolor\":\"white\",\"ticks\":\"\"}},\"ternary\":{\"bgcolor\":\"#E5ECF6\",\"aaxis\":{\"gridcolor\":\"white\",\"linecolor\":\"white\",\"ticks\":\"\"},\"baxis\":{\"gridcolor\":\"white\",\"linecolor\":\"white\",\"ticks\":\"\"},\"caxis\":{\"gridcolor\":\"white\",\"linecolor\":\"white\",\"ticks\":\"\"}},\"coloraxis\":{\"colorbar\":{\"outlinewidth\":0,\"ticks\":\"\"}},\"colorscale\":{\"sequential\":[[0.0,\"#0d0887\"],[0.1111111111111111,\"#46039f\"],[0.2222222222222222,\"#7201a8\"],[0.3333333333333333,\"#9c179e\"],[0.4444444444444444,\"#bd3786\"],[0.5555555555555556,\"#d8576b\"],[0.6666666666666666,\"#ed7953\"],[0.7777777777777778,\"#fb9f3a\"],[0.8888888888888888,\"#fdca26\"],[1.0,\"#f0f921\"]],\"sequentialminus\":[[0.0,\"#0d0887\"],[0.1111111111111111,\"#46039f\"],[0.2222222222222222,\"#7201a8\"],[0.3333333333333333,\"#9c179e\"],[0.4444444444444444,\"#bd3786\"],[0.5555555555555556,\"#d8576b\"],[0.6666666666666666,\"#ed7953\"],[0.7777777777777778,\"#fb9f3a\"],[0.8888888888888888,\"#fdca26\"],[1.0,\"#f0f921\"]],\"diverging\":[[0,\"#8e0152\"],[0.1,\"#c51b7d\"],[0.2,\"#de77ae\"],[0.3,\"#f1b6da\"],[0.4,\"#fde0ef\"],[0.5,\"#f7f7f7\"],[0.6,\"#e6f5d0\"],[0.7,\"#b8e186\"],[0.8,\"#7fbc41\"],[0.9,\"#4d9221\"],[1,\"#276419\"]]},\"xaxis\":{\"gridcolor\":\"white\",\"linecolor\":\"white\",\"ticks\":\"\",\"title\":{\"standoff\":15},\"zerolinecolor\":\"white\",\"automargin\":true,\"zerolinewidth\":2},\"yaxis\":{\"gridcolor\":\"white\",\"linecolor\":\"white\",\"ticks\":\"\",\"title\":{\"standoff\":15},\"zerolinecolor\":\"white\",\"automargin\":true,\"zerolinewidth\":2},\"scene\":{\"xaxis\":{\"backgroundcolor\":\"#E5ECF6\",\"gridcolor\":\"white\",\"linecolor\":\"white\",\"showbackground\":true,\"ticks\":\"\",\"zerolinecolor\":\"white\",\"gridwidth\":2},\"yaxis\":{\"backgroundcolor\":\"#E5ECF6\",\"gridcolor\":\"white\",\"linecolor\":\"white\",\"showbackground\":true,\"ticks\":\"\",\"zerolinecolor\":\"white\",\"gridwidth\":2},\"zaxis\":{\"backgroundcolor\":\"#E5ECF6\",\"gridcolor\":\"white\",\"linecolor\":\"white\",\"showbackground\":true,\"ticks\":\"\",\"zerolinecolor\":\"white\",\"gridwidth\":2}},\"shapedefaults\":{\"line\":{\"color\":\"#2a3f5f\"}},\"annotationdefaults\":{\"arrowcolor\":\"#2a3f5f\",\"arrowhead\":0,\"arrowwidth\":1},\"geo\":{\"bgcolor\":\"white\",\"landcolor\":\"#E5ECF6\",\"subunitcolor\":\"white\",\"showland\":true,\"showlakes\":true,\"lakecolor\":\"white\"},\"title\":{\"x\":0.05},\"mapbox\":{\"style\":\"light\"}}},\"title\":{\"text\":\"Proportion\"}},                        {\"responsive\": true}                    ).then(function(){\n",
              "                            \n",
              "var gd = document.getElementById('a3cc6999-14a9-4d61-a929-ac61843d6ef2');\n",
              "var x = new MutationObserver(function (mutations, observer) {{\n",
              "        var display = window.getComputedStyle(gd).display;\n",
              "        if (!display || display === 'none') {{\n",
              "            console.log([gd, 'removed!']);\n",
              "            Plotly.purge(gd);\n",
              "            observer.disconnect();\n",
              "        }}\n",
              "}});\n",
              "\n",
              "// Listen for the removal of the full notebook cells\n",
              "var notebookContainer = gd.closest('#notebook-container');\n",
              "if (notebookContainer) {{\n",
              "    x.observe(notebookContainer, {childList: true});\n",
              "}}\n",
              "\n",
              "// Listen for the clearing of the current output cell\n",
              "var outputEl = gd.closest('.output');\n",
              "if (outputEl) {{\n",
              "    x.observe(outputEl, {childList: true});\n",
              "}}\n",
              "\n",
              "                        })                };                            </script>        </div>\n",
              "</body>\n",
              "</html>"
            ]
          },
          "metadata": {}
        }
      ]
    },
    {
      "cell_type": "code",
      "source": [],
      "metadata": {
        "id": "36G69iawYsDH"
      },
      "execution_count": null,
      "outputs": []
    }
  ]
}